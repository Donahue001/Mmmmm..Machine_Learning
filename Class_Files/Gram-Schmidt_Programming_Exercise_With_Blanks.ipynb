{
 "cells": [
  {
   "cell_type": "code",
   "execution_count": 4,
   "id": "12bd6fbe",
   "metadata": {},
   "outputs": [],
   "source": [
    "import numpy as np\n",
    "from numpy import linalg as la\n",
    "from matplotlib import pyplot as plt\n",
    "drg = np.random.default_rng()"
   ]
  },
  {
   "cell_type": "markdown",
   "id": "0f4e5317",
   "metadata": {},
   "source": [
    "### Norm Function\n",
    "The norm function from the numpy linear algebra library calculates the Euclidean norm of a vector\n",
    "$$\\lVert v\\rVert = \\sqrt{v_0^2+v_1^2+\\cdots+v_{n-1}^2}$$"
   ]
  },
  {
   "cell_type": "code",
   "execution_count": 6,
   "id": "3f2b54de",
   "metadata": {},
   "outputs": [
    {
     "data": {
      "text/plain": [
       "3.7416573867739413"
      ]
     },
     "execution_count": 6,
     "metadata": {},
     "output_type": "execute_result"
    }
   ],
   "source": [
    "# Play around with this to be sure you understand it.\n",
    "v = np.array([1,2,3])\n",
    "la.norm(v)"
   ]
  },
  {
   "cell_type": "markdown",
   "id": "070a91c4",
   "metadata": {},
   "source": [
    "Notice in the next cell that we use \"==\" to test for logical equality and numpy uses double * for exponents.\n",
    "If we wanted to know if two things are not equal we would use \"!=\""
   ]
  },
  {
   "cell_type": "code",
   "execution_count": 11,
   "id": "cb1bc604",
   "metadata": {},
   "outputs": [
    {
     "data": {
      "text/plain": [
       "True"
      ]
     },
     "execution_count": 11,
     "metadata": {},
     "output_type": "execute_result"
    }
   ],
   "source": [
    "# Play around with this to be sure you understand it.\n",
    "la.norm(v) == np.sqrt(1**2+2**2+3**2)"
   ]
  },
  {
   "cell_type": "markdown",
   "id": "a879ec29",
   "metadata": {},
   "source": [
    "### Normalizing Function\n",
    "Use the norm function from the numpy linear algebra library to complete this function.\n",
    "\n",
    "1) If the inputed vector has zero norm or is otherwise not an appropriate input the function should print an error message and return the original input.\n",
    "\n",
    "2) If the vector is an acceptable input your should return $\\frac{v}{\\lVert v\\rVert}.$"
   ]
  },
  {
   "cell_type": "code",
   "execution_count": 11,
   "id": "5da80a80",
   "metadata": {},
   "outputs": [],
   "source": [
    "# returns a normalized version of v\n",
    "def normalize(v):\n",
    "    try:\n",
    "        # Fill in a boolean expression of the form a == b to check if the vectors norm is 0\n",
    "        if  ... : \n",
    "            raise ZeroDivisionError\n",
    "        else:\n",
    "            return v/la.norm(v)\n",
    "    except ZeroDivisionError:\n",
    "        # Give an appropriate error message if the vector failed its norm check\n",
    "        print(\" ... \")\n",
    "        # This returns the input vecto to the user\n",
    "        return v\n",
    "    # Add two lines here, one to print an error message if there is a general failure and \n",
    "    # another to return the original vector\n",
    "    except Exception as S:\n",
    "        ..."
   ]
  },
  {
   "cell_type": "markdown",
   "id": "b82f0b84",
   "metadata": {},
   "source": [
    "### Function to Project Vectors\n",
    "This function should accept two vectors $u$ and $v$ as input and return the projection of the first onto the second $ proj_{v}u$.\n",
    "It should also return appropriate errors if the inputs are not appropriate."
   ]
  },
  {
   "cell_type": "code",
   "execution_count": 3,
   "id": "43aadc71",
   "metadata": {},
   "outputs": [],
   "source": [
    "# projects u onto v\n",
    "def project(u,v):\n",
    "    try:\n",
    "        # Fill in a boolean expression of the form a == b to check if the norm of v is 0\n",
    "        if  ... : \n",
    "            raise ZeroDivisionError\n",
    "        else:\n",
    "            return (u@v)/(v@v)*v\n",
    "    # Fill in the two except clauses with appropriate error messages and by having each return the vector v\n",
    "    except ZeroDivisionError:\n",
    "        ...\n",
    "    except Exception as S:\n",
    "        ..."
   ]
  },
  {
   "cell_type": "markdown",
   "id": "29328f31-5865-44dc-8a20-b69f322bfbfb",
   "metadata": {},
   "source": [
    "### Gram-Schmidt Function\n",
    "This function takes in a list $B$ of vectors and returns a orthonormal basis New_$B$ for the space spanned by $B$.\n",
    "To do this the function:\n",
    "\n",
    "1. Creates a new list, New_$B$\n",
    "2. For each vector $b$ in $B$ it performs the Gram-Schmidt process using the vectors already in New_$B$, i.e. it finds $$b-proj_{New\\_B}b.$$\n",
    "3. Normalizes the resulting vector\n",
    "4. Adds this new vector to the list New_$B$.\n",
    "5. Once it has gone through all vectors in $B$, it returns New_$B$\n",
    "\n",
    "Note that to complete this you will need to use your normalization and projection functions."
   ]
  },
  {
   "cell_type": "code",
   "execution_count": 15,
   "id": "6ff00e7e",
   "metadata": {},
   "outputs": [],
   "source": [
    "# applies the Gram-Schmidt Orthogonalization Algorithm with Normalization\n",
    "def GramSchmidt(B):\n",
    "    try:\n",
    "        # Create a new empty list\n",
    "        New_B = []\n",
    "        for b in B:\n",
    "            # Create a vector of 0's we can add to which is the same length as b\n",
    "            new_vec = np.zeros(len(b))\n",
    "            # This loop should add up all the projections of b onto vectors in New_B\n",
    "            # Do this by incrementally adding them to new_vec\n",
    "            # Think about what happens if New_B is empty\n",
    "            for c in New_B:\n",
    "                new_vec = new_vec + ...\n",
    "            # replace the new vector with the current b minus the new vector\n",
    "            new_vec = b-new_vec\n",
    "            # if the norm of new_vec isn't zero, normalize it and add it to New_B\n",
    "            # to check if values are not equal use a != b\n",
    "            if ... :\n",
    "                # replace new_vec with new_vec normalized\n",
    "                # then append it to the list New_B\n",
    "                new_vec = ...\n",
    "                New_B.append(new_vec)\n",
    "    # This returns an exception if one of the above calculations goes wrong\n",
    "    except Exception as S:\n",
    "        print(S)\n",
    "        return B\n",
    "    # This returns the New_B as a numpy array, i.e. an orthogonal matrix\n",
    "    return np.array(New_B).transpose()"
   ]
  },
  {
   "cell_type": "markdown",
   "id": "ebb58fca-c326-4979-b5b2-2c60655e585e",
   "metadata": {},
   "source": [
    "### Testing\n",
    "Do not edit the cells below.  You should run these to test your function and make sure it is calculating the orthonormal bases correctly."
   ]
  },
  {
   "cell_type": "code",
   "execution_count": 73,
   "id": "8546f3c4",
   "metadata": {},
   "outputs": [],
   "source": [
    "from numpy.testing import assert_allclose\n",
    "\n",
    "def test_gs(B):\n",
    "    success = True\n",
    "    Bprime = GramSchmidt(B)\n",
    "    test_matrix = Bprime@Bprime.transpose()\n",
    "    ident = np.eye(test_matrix.shape[0])\n",
    "    try:\n",
    "        assert_allclose(test_matrix,ident, atol=1e-10)\n",
    "    except AssertionError:\n",
    "        success = False\n",
    "        print(\"Assertion that values are close failed\")\n",
    "    except  Exception as S:\n",
    "        success = False\n",
    "        print(\"Test faild for other resons:\\n\",S)\n",
    "    return success"
   ]
  },
  {
   "cell_type": "code",
   "execution_count": null,
   "id": "fa74d52c",
   "metadata": {},
   "outputs": [],
   "source": [
    "for i in range(10):\n",
    "    dimension = drg.integers(low=3, high=200)\n",
    "    B = [drg.integers(low=0, high=10, size=dimension) for i in range(dimension)]\n",
    "    result = test_gs(B)\n",
    "    if result:\n",
    "        print(\"Test %i: For dimension %i we have success!\"%(i+1,dimension))\n",
    "    else:\n",
    "        print(\"Test %i: For dimension %i we had a failure!\"%(i+1,dimension))"
   ]
  }
 ],
 "metadata": {
  "kernelspec": {
   "display_name": "Python 3 (ipykernel)",
   "language": "python",
   "name": "python3"
  },
  "language_info": {
   "codemirror_mode": {
    "name": "ipython",
    "version": 3
   },
   "file_extension": ".py",
   "mimetype": "text/x-python",
   "name": "python",
   "nbconvert_exporter": "python",
   "pygments_lexer": "ipython3",
   "version": "3.9.19"
  }
 },
 "nbformat": 4,
 "nbformat_minor": 5
}
