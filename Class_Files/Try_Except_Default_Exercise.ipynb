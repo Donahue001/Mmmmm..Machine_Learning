{
 "cells": [
  {
   "cell_type": "code",
   "execution_count": 3,
   "id": "41ad4c83",
   "metadata": {},
   "outputs": [],
   "source": [
    "def new_sum(a,b):\n",
    "    return int(a+b-1)"
   ]
  },
  {
   "cell_type": "code",
   "execution_count": 31,
   "id": "ac11d3ef",
   "metadata": {},
   "outputs": [],
   "source": [
    "def new_prod(a,b):\n",
    "    return int(a+b-a*b)"
   ]
  },
  {
   "cell_type": "code",
   "execution_count": 41,
   "id": "e6e08b59",
   "metadata": {},
   "outputs": [],
   "source": [
    "def new_sum2(a=1,b=1):\n",
    "    s = 1\n",
    "    try:\n",
    "        if type(a) != int or type(b) != int:\n",
    "            raise TypeError\n",
    "        else:\n",
    "            s = int(a+b-1)\n",
    "    except TypeError:\n",
    "        print(\"Your inputs are the wrong data type, a=%s is %s and b=%s is %s.\"%(str(a),type(a),str(b),type(b)))\n",
    "        s = TypeError\n",
    "    except Exception as Err:\n",
    "        print(\"There was an error, check your inputs.\\n\",Err)\n",
    "        s= Err\n",
    "    return s"
   ]
  },
  {
   "cell_type": "code",
   "execution_count": 42,
   "id": "417c7832",
   "metadata": {},
   "outputs": [],
   "source": [
    "A_inputs = [2,1,0,\"t\",[2,3],3,7]\n",
    "B_inputs = [0,1,\"a\",5,[2,3],{},6]"
   ]
  },
  {
   "cell_type": "code",
   "execution_count": 44,
   "id": "30cc7383",
   "metadata": {},
   "outputs": [
    {
     "name": "stdout",
     "output_type": "stream",
     "text": [
      "\t BEGIN ROUND\n",
      "With inputs a=2 and b=0 we get 1\n",
      "With inputs a=2 and b=1 we get 2\n"
     ]
    },
    {
     "ename": "TypeError",
     "evalue": "unsupported operand type(s) for +: 'int' and 'str'",
     "output_type": "error",
     "traceback": [
      "\u001b[1;31m---------------------------------------------------------------------------\u001b[0m",
      "\u001b[1;31mTypeError\u001b[0m                                 Traceback (most recent call last)",
      "\u001b[1;32m~\\AppData\\Local\\Temp\\ipykernel_22932\\1722545039.py\u001b[0m in \u001b[0;36m<module>\u001b[1;34m\u001b[0m\n\u001b[0;32m      4\u001b[0m     \u001b[0mprint\u001b[0m\u001b[1;33m(\u001b[0m\u001b[1;34m\"\\t BEGIN ROUND\"\u001b[0m\u001b[1;33m)\u001b[0m\u001b[1;33m\u001b[0m\u001b[1;33m\u001b[0m\u001b[0m\n\u001b[0;32m      5\u001b[0m     \u001b[1;32mfor\u001b[0m \u001b[0mb\u001b[0m \u001b[1;32min\u001b[0m \u001b[0mB_inputs\u001b[0m\u001b[1;33m:\u001b[0m\u001b[1;33m\u001b[0m\u001b[1;33m\u001b[0m\u001b[0m\n\u001b[1;32m----> 6\u001b[1;33m         \u001b[0mprint\u001b[0m\u001b[1;33m(\u001b[0m\u001b[1;34m\"With inputs a=%s and b=%s we get %s\"\u001b[0m\u001b[1;33m%\u001b[0m\u001b[1;33m(\u001b[0m\u001b[0ma\u001b[0m\u001b[1;33m,\u001b[0m\u001b[0mb\u001b[0m\u001b[1;33m,\u001b[0m\u001b[0mnew_sum\u001b[0m\u001b[1;33m(\u001b[0m\u001b[0ma\u001b[0m\u001b[1;33m,\u001b[0m\u001b[0mb\u001b[0m\u001b[1;33m)\u001b[0m\u001b[1;33m)\u001b[0m\u001b[1;33m)\u001b[0m\u001b[1;33m\u001b[0m\u001b[1;33m\u001b[0m\u001b[0m\n\u001b[0m\u001b[0;32m      7\u001b[0m     \u001b[0mprint\u001b[0m\u001b[1;33m(\u001b[0m\u001b[1;34m\"\\t NEXT ROUND\"\u001b[0m\u001b[1;33m)\u001b[0m\u001b[1;33m\u001b[0m\u001b[1;33m\u001b[0m\u001b[0m\n",
      "\u001b[1;32m~\\AppData\\Local\\Temp\\ipykernel_22932\\305699643.py\u001b[0m in \u001b[0;36mnew_sum\u001b[1;34m(a, b)\u001b[0m\n\u001b[0;32m      1\u001b[0m \u001b[1;32mdef\u001b[0m \u001b[0mnew_sum\u001b[0m\u001b[1;33m(\u001b[0m\u001b[0ma\u001b[0m\u001b[1;33m,\u001b[0m\u001b[0mb\u001b[0m\u001b[1;33m)\u001b[0m\u001b[1;33m:\u001b[0m\u001b[1;33m\u001b[0m\u001b[1;33m\u001b[0m\u001b[0m\n\u001b[1;32m----> 2\u001b[1;33m     \u001b[1;32mreturn\u001b[0m \u001b[0mint\u001b[0m\u001b[1;33m(\u001b[0m\u001b[0ma\u001b[0m\u001b[1;33m+\u001b[0m\u001b[0mb\u001b[0m\u001b[1;33m-\u001b[0m\u001b[1;36m1\u001b[0m\u001b[1;33m)\u001b[0m\u001b[1;33m\u001b[0m\u001b[1;33m\u001b[0m\u001b[0m\n\u001b[0m",
      "\u001b[1;31mTypeError\u001b[0m: unsupported operand type(s) for +: 'int' and 'str'"
     ]
    }
   ],
   "source": [
    "# If you run this with new_sum or new_prod it comes to a grinding halt if the inputs aren't perfect.\n",
    "# What happens if you try using new_sum2?\n",
    "for a in A_inputs:\n",
    "    print(\"\\t BEGIN ROUND\")\n",
    "    for b in B_inputs:\n",
    "        print(\"With inputs a=%s and b=%s we get %s\"%(a,b,new_sum(a,b)))\n",
    "    print(\"\\t NEXT ROUND\")"
   ]
  },
  {
   "cell_type": "code",
   "execution_count": null,
   "id": "020720af",
   "metadata": {},
   "outputs": [],
   "source": [
    "# Use this block to create a new_prod2 functions with the same features as new_sum2.\n",
    "# Then run it in the loop above to make sure it works.\n",
    "def new_prod2(...):\n",
    "    ..."
   ]
  }
 ],
 "metadata": {
  "kernelspec": {
   "display_name": "Python 3 (ipykernel)",
   "language": "python",
   "name": "python3"
  },
  "language_info": {
   "codemirror_mode": {
    "name": "ipython",
    "version": 3
   },
   "file_extension": ".py",
   "mimetype": "text/x-python",
   "name": "python",
   "nbconvert_exporter": "python",
   "pygments_lexer": "ipython3",
   "version": "3.9.13"
  }
 },
 "nbformat": 4,
 "nbformat_minor": 5
}
