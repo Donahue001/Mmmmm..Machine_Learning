{
 "cells": [
  {
   "cell_type": "code",
   "execution_count": 5,
   "metadata": {},
   "outputs": [],
   "source": [
    "import matplotlib.pyplot as plt\n",
    "import pandas as pd\n",
    "import numpy as np\n",
    "from numpy import linalg as la\n",
    "from scipy.optimize import curve_fit\n"
   ]
  },
  {
   "cell_type": "code",
   "execution_count": 6,
   "metadata": {},
   "outputs": [],
   "source": [
    "df = pd.read_csv('../data/studied,examscore.csv')\n",
    "x = np.array(df['Hours_Studied'])\n",
    "y = np.array(df['Exam_Score'])"
   ]
  },
  {
   "cell_type": "code",
   "execution_count": 7,
   "metadata": {},
   "outputs": [
    {
     "name": "stdout",
     "output_type": "stream",
     "text": [
      "If the number of hours studied equals 23 the student earned a 67.00 exam score\n",
      "If the number of hours studied equals 19 the student earned a 61.00 exam score\n",
      "If the number of hours studied equals 24 the student earned a 74.00 exam score\n",
      "If the number of hours studied equals 29 the student earned a 71.00 exam score\n",
      "If the number of hours studied equals 19 the student earned a 70.00 exam score\n",
      "If the number of hours studied equals 19 the student earned a 71.00 exam score\n",
      "If the number of hours studied equals 29 the student earned a 67.00 exam score\n",
      "If the number of hours studied equals 25 the student earned a 66.00 exam score\n",
      "If the number of hours studied equals 17 the student earned a 69.00 exam score\n",
      "If the number of hours studied equals 23 the student earned a 72.00 exam score\n",
      "If the number of hours studied equals 17 the student earned a 68.00 exam score\n",
      "If the number of hours studied equals 17 the student earned a 71.00 exam score\n",
      "If the number of hours studied equals 21 the student earned a 70.00 exam score\n",
      "If the number of hours studied equals 9 the student earned a 66.00 exam score\n",
      "If the number of hours studied equals 10 the student earned a 65.00 exam score\n",
      "If the number of hours studied equals 17 the student earned a 64.00 exam score\n",
      "If the number of hours studied equals 14 the student earned a 60.00 exam score\n",
      "If the number of hours studied equals 22 the student earned a 65.00 exam score\n",
      "If the number of hours studied equals 15 the student earned a 67.00 exam score\n",
      "If the number of hours studied equals 12 the student earned a 66.00 exam score\n",
      "If the number of hours studied equals 29 the student earned a 69.00 exam score\n",
      "If the number of hours studied equals 19 the student earned a 72.00 exam score\n",
      "If the number of hours studied equals 20 the student earned a 66.00 exam score\n",
      "If the number of hours studied equals 11 the student earned a 66.00 exam score\n",
      "If the number of hours studied equals 17 the student earned a 63.00 exam score\n",
      "If the number of hours studied equals 21 the student earned a 64.00 exam score\n",
      "If the number of hours studied equals 13 the student earned a 65.00 exam score\n",
      "If the number of hours studied equals 22 the student earned a 71.00 exam score\n",
      "If the number of hours studied equals 16 the student earned a 66.00 exam score\n",
      "If the number of hours studied equals 18 the student earned a 64.00 exam score\n",
      "If the number of hours studied equals 16 the student earned a 63.00 exam score\n",
      "If the number of hours studied equals 31 the student earned a 69.00 exam score\n",
      "If the number of hours studied equals 20 the student earned a 67.00 exam score\n",
      "If the number of hours studied equals 14 the student earned a 61.00 exam score\n",
      "If the number of hours studied equals 25 the student earned a 68.00 exam score\n",
      "If the number of hours studied equals 13 the student earned a 61.00 exam score\n",
      "If the number of hours studied equals 21 the student earned a 64.00 exam score\n",
      "If the number of hours studied equals 8 the student earned a 67.00 exam score\n",
      "If the number of hours studied equals 12 the student earned a 63.00 exam score\n",
      "If the number of hours studied equals 21 the student earned a 64.00 exam score\n",
      "If the number of hours studied equals 24 the student earned a 67.00 exam score\n",
      "If the number of hours studied equals 21 the student earned a 65.00 exam score\n",
      "If the number of hours studied equals 19 the student earned a 64.00 exam score\n",
      "If the number of hours studied equals 18 the student earned a 70.00 exam score\n",
      "If the number of hours studied equals 11 the student earned a 68.00 exam score\n",
      "If the number of hours studied equals 16 the student earned a 65.00 exam score\n",
      "If the number of hours studied equals 17 the student earned a 68.00 exam score\n",
      "If the number of hours studied equals 26 the student earned a 64.00 exam score\n",
      "If the number of hours studied equals 22 the student earned a 68.00 exam score\n"
     ]
    }
   ],
   "source": [
    "for x,y in zip(x,y):\n",
    "    print(\"If the number of hours studied equals %s the student earned a %0.2f exam score\"%(x,y))"
   ]
  },
  {
   "cell_type": "code",
   "execution_count": 8,
   "metadata": {},
   "outputs": [
    {
     "data": {
      "image/png": "[encoded data removed]",
      "text/plain": [
       "<Figure size 640x480 with 1 Axes>"
      ]
     },
     "metadata": {},
     "output_type": "display_data"
    }
   ],
   "source": [
    "fig,ax = plt.subplots();\n",
    "scatt_plot = ax.plot(x,y,)\n",
    "ax.set_title(\"Hours studied vs exam score\");\n",
    "ax.set_xlabel('hours studied');\n",
    "ax.set_ylabel('exam score');"
   ]
  },
  {
   "cell_type": "code",
   "execution_count": null,
   "metadata": {},
   "outputs": [],
   "source": []
  }
 ],
 "metadata": {
  "kernelspec": {
   "display_name": "Python 3",
   "language": "python",
   "name": "python3"
  },
  "language_info": {
   "codemirror_mode": {
    "name": "ipython",
    "version": 3
   },
   "file_extension": ".py",
   "mimetype": "text/x-python",
   "name": "python",
   "nbconvert_exporter": "python",
   "pygments_lexer": "ipython3",
   "version": "3.12.1"
  }
 },
 "nbformat": 4,
 "nbformat_minor": 2
}
